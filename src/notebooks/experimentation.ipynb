{
 "cells": [
  {
   "cell_type": "code",
   "execution_count": 19,
   "metadata": {},
   "outputs": [],
   "source": [
    "from src.utility import get_root\n",
    "import pandas as pd\n",
    "import os\n",
    "from typing import Tuple, List, Optional"
   ]
  },
  {
   "cell_type": "code",
   "execution_count": 20,
   "metadata": {},
   "outputs": [],
   "source": [
    "def estimate_flops(model: str, input_size: Tuple[int, int], training_strategy: str, sample_count: int, estimated_epochs: int) -> float:\n",
    "    path_to_flops = os.path.join(get_root(), \"data\", \"model_flops\", \"model_flops.xlsx\")\n",
    "    flops_df = pd.read_excel(path_to_flops)\n",
    "\n",
    "    model_info = flops_df[flops_df[\"Model\"] == model]\n",
    "\n",
    "    if model_info.empty:\n",
    "        raise ValueError(f\"Model {model} not found in the flops database\")\n",
    "    \n",
    "    model_type = model_info['Type'].iloc[0]\n",
    "    original_input_size = model_info['Input Size'].iloc[0].split()[0]\n",
    "\n",
    "    if model_type == 'Vision':\n",
    "        width, height = map(int, original_input_size.split('x'))\n",
    "        scaling = (input_size[0] * input_size[1]) / (width * height)\n",
    "    else:\n",
    "        scaling = input_size[0] / int(original_input_size)\n",
    "\n",
    "    if training_strategy in [\"Fine-tuning the whole model\", \"Full Training\"]:\n",
    "        return estimated_epochs * sample_count * model_info['FLOPs'].iloc[0] * scaling * 3\n",
    "    elif training_strategy == \"Last Layer Learning\":\n",
    "        return estimated_epochs * sample_count * 2 * model_info['Last Layer FLOPs'].iloc[0] + model_info['FLOPs'].iloc[0] * scaling\n",
    "    else:\n",
    "        raise ValueError(f\"Unsupported training strategy: {training_strategy}\")\n"
   ]
  },
  {
   "cell_type": "code",
   "execution_count": 28,
   "metadata": {},
   "outputs": [],
   "source": [
    "def estimate_time(flops: float, gpu: str, training_strategy: str, tflops: str) -> float:\n",
    "    path_to_gpu = os.path.join(get_root(), \"data\", \"gpus.csv\")\n",
    "    gpu_df = pd.read_csv(path_to_gpu)\n",
    "    gpu_info = gpu_df[gpu_df[\"name\"] == gpu]\n",
    "\n",
    "    if gpu_info.empty:\n",
    "        raise ValueError(f\"GPU {gpu} not found in the flops database\")\n",
    "    \n",
    "    return flops / gpu_info[tflops].iloc[0] / 1e+12 if training_strategy in [\"Full Training\", \"Fine-tuning the whole model\"] else flops / gpu_info[tflops].iloc[0] / 1e+12 / 3"
   ]
  },
  {
   "cell_type": "code",
   "execution_count": 29,
   "metadata": {},
   "outputs": [
    {
     "name": "stdout",
     "output_type": "stream",
     "text": [
      "2.106196446814041e+19\n"
     ]
    }
   ],
   "source": [
    "a = estimate_flops(\"fasterrcnn_resnet50_fpn\", (256, 256), \"Fine-tuning the whole model\", 1000000, 40)\n",
    "print(a)"
   ]
  },
  {
   "cell_type": "code",
   "execution_count": 27,
   "metadata": {},
   "outputs": [
    {
     "data": {
      "text/plain": [
       "617652.9169542642"
      ]
     },
     "execution_count": 27,
     "metadata": {},
     "output_type": "execute_result"
    }
   ],
   "source": [
    "estimate_time(a, \"RTX 3080 TI\", \"Fine-tuning the whole model\")"
   ]
  },
  {
   "cell_type": "code",
   "execution_count": null,
   "metadata": {},
   "outputs": [],
   "source": []
  },
  {
   "cell_type": "code",
   "execution_count": null,
   "metadata": {},
   "outputs": [],
   "source": []
  }
 ],
 "metadata": {
  "kernelspec": {
   "display_name": "Python 3",
   "language": "python",
   "name": "python3"
  },
  "language_info": {
   "codemirror_mode": {
    "name": "ipython",
    "version": 3
   },
   "file_extension": ".py",
   "mimetype": "text/x-python",
   "name": "python",
   "nbconvert_exporter": "python",
   "pygments_lexer": "ipython3",
   "version": "3.11.9"
  }
 },
 "nbformat": 4,
 "nbformat_minor": 2
}
