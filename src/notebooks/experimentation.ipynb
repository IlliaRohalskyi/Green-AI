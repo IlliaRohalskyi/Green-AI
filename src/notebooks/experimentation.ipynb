{
 "cells": [
  {
   "cell_type": "code",
   "execution_count": 1,
   "metadata": {},
   "outputs": [],
   "source": [
    "from src.utility import get_root\n",
    "import pandas as pd\n",
    "import os\n",
    "from typing import Tuple, List, Optional"
   ]
  },
  {
   "cell_type": "code",
   "execution_count": 20,
   "metadata": {},
   "outputs": [],
   "source": [
    "def calculate_flops(model: str, input_size: Tuple[int, int], training_strategy: str) -> float:\n",
    "    path_to_flops = os.path.join(get_root(), \"data\", \"model_flops\", \"model_flops.xlsx\")\n",
    "    flops_df = pd.read_excel(path_to_flops)\n",
    "\n",
    "    model_info = flops_df[flops_df[\"Model\"] == model]\n",
    "\n",
    "    if model_info.empty:\n",
    "        raise ValueError(f\"Model {model} not found in the flops database\")\n",
    "    \n",
    "    model_type = model_info['Type'].iloc[0]\n",
    "    original_input_size = model_info['Input Size'].iloc[0].split()[0]\n",
    "\n",
    "    if model_type == 'Vision':\n",
    "        width, height = map(int, original_input_size.split('x'))\n",
    "        scaling = (input_size[0] * input_size[1]) / (width * height)\n",
    "    else:\n",
    "        scaling = input_size[0] / int(original_input_size)\n",
    "\n",
    "    if training_strategy in [\"Fine-tuning the whole model\", \"Full Training\"]:\n",
    "        return model_info['FLOPs'].iloc[0] * scaling * 3\n",
    "    elif training_strategy == \"Last Layer Learning\":\n",
    "        return 2 * model_info['Last Layer FLOPs'].iloc[0] + model_info['FLOPs'].iloc[0] * scaling / 3\n",
    "    else:\n",
    "        raise ValueError(f\"Unsupported training strategy: {training_strategy}\")\n",
    "\n",
    "\n",
    "\n",
    "a = calculate_flops(\"bert-base-uncased\", (512, ), \"Last Layer Learning\")\n",
    "b = calculate_flops(\"bert-base-uncased\", (512, ), \"Full Training\")"
   ]
  },
  {
   "cell_type": "code",
   "execution_count": 21,
   "metadata": {},
   "outputs": [
    {
     "data": {
      "text/plain": [
       "14511177728.0"
      ]
     },
     "execution_count": 21,
     "metadata": {},
     "output_type": "execute_result"
    }
   ],
   "source": [
    "a"
   ]
  },
  {
   "cell_type": "code",
   "execution_count": 22,
   "metadata": {},
   "outputs": [
    {
     "data": {
      "text/plain": [
       "130579365888.0"
      ]
     },
     "execution_count": 22,
     "metadata": {},
     "output_type": "execute_result"
    }
   ],
   "source": [
    "b"
   ]
  },
  {
   "cell_type": "code",
   "execution_count": 23,
   "metadata": {},
   "outputs": [
    {
     "data": {
      "text/plain": [
       "8.998536737375973"
      ]
     },
     "execution_count": 23,
     "metadata": {},
     "output_type": "execute_result"
    }
   ],
   "source": [
    "b/a"
   ]
  },
  {
   "cell_type": "code",
   "execution_count": null,
   "metadata": {},
   "outputs": [],
   "source": []
  },
  {
   "cell_type": "code",
   "execution_count": null,
   "metadata": {},
   "outputs": [],
   "source": []
  }
 ],
 "metadata": {
  "kernelspec": {
   "display_name": "Python 3",
   "language": "python",
   "name": "python3"
  },
  "language_info": {
   "codemirror_mode": {
    "name": "ipython",
    "version": 3
   },
   "file_extension": ".py",
   "mimetype": "text/x-python",
   "name": "python",
   "nbconvert_exporter": "python",
   "pygments_lexer": "ipython3",
   "version": "3.11.9"
  }
 },
 "nbformat": 4,
 "nbformat_minor": 2
}
